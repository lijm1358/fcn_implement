{
 "cells": [
  {
   "attachments": {},
   "cell_type": "markdown",
   "metadata": {},
   "source": [
    "* best validation loss : 0.5262180339206349(img size=256, all fc to 1\\*1 conv, nn.upsample)\n",
    "  * 0.546918155930259(img size=224)\n",
    "  * worse than above(no input normalization)\n",
    "  * 0.5481791387904774(lower lr=5e-6)\n",
    "* best validation loss : 0.4841527131470767(restructured fcn)\n",
    "  * FCN16 : 0.46314543025060134"
   ]
  },
  {
   "cell_type": "code",
   "execution_count": 1,
   "metadata": {},
   "outputs": [
    {
     "name": "stderr",
     "output_type": "stream",
     "text": [
      "c:\\Users\\lijm1\\anaconda3\\envs\\torch-light\\lib\\site-packages\\tqdm\\auto.py:22: TqdmWarning: IProgress not found. Please update jupyter and ipywidgets. See https://ipywidgets.readthedocs.io/en/stable/user_install.html\n",
      "  from .autonotebook import tqdm as notebook_tqdm\n"
     ]
    }
   ],
   "source": [
    "import os \n",
    "\n",
    "import torch\n",
    "from torch import nn\n",
    "from torchvision.datasets import VOCSegmentation\n",
    "from torchvision.transforms import Compose, ToTensor, Resize, Normalize\n",
    "from torchvision.models import vgg16, VGG16_Weights\n",
    "\n",
    "from torch.utils.data import DataLoader\n",
    "from torch.optim import SGD, Adam\n",
    "\n",
    "from torchsummary import summary\n",
    "\n",
    "import matplotlib.pyplot as plt\n",
    "\n",
    "from tqdm import tqdm\n",
    "\n",
    "import numpy as np"
   ]
  },
  {
   "cell_type": "code",
   "execution_count": 2,
   "metadata": {},
   "outputs": [],
   "source": [
    "class ToNumpy(object):\n",
    "    def __call__(self, image):\n",
    "        self.image = image\n",
    "        self.image = np.array(self.image)\n",
    "        return torch.tensor(self.image)\n",
    "    \n",
    "class NoVoid(object):\n",
    "    def __call__(self, tensor):\n",
    "        return torch.where(tensor==255, 0, tensor)\n",
    "    \n",
    "# class OneHot(object):\n",
    "#     def __call__(self, tensor):\n",
    "#         shape = tensor.shape\n",
    "#         tensor = tensor.to(torch.int64)\n",
    "#         # one hot : (B, C=num_classes, H, W)\n",
    "#         one_hot = torch.zeros((shape[0], 21) + shape[1:])\n",
    "        \n",
    "#         # labels : (B, H, W)\n",
    "#         # labels.unsqueeze(1) : (B, C=1, H, W)\n",
    "#         # ret : (B, C=num_classes, H, W)\n",
    "#         ret = one_hot.scatter_(1, tensor.unsqueeze(1), 1.0)\n",
    "#         return ret.transpose(0, 1)\n",
    "\n"
   ]
  },
  {
   "cell_type": "code",
   "execution_count": 10,
   "metadata": {},
   "outputs": [],
   "source": [
    "image_size = (256, 256)\n",
    "transform1 = Compose([Resize(image_size), ToTensor(), Normalize(mean=[0.4538, 0.4416, 0.4077], std=[0.2631, 0.2597, 0.2765])])\n",
    "transform2 = Compose([Resize(image_size), ToTensor(), Normalize(mean=[0.4563, 0.4381, 0.3995], std=[0.2614, 0.2595, 0.2757])])\n",
    "target_transform = Compose([Resize(image_size),ToNumpy(), NoVoid()])"
   ]
  },
  {
   "cell_type": "code",
   "execution_count": 11,
   "metadata": {},
   "outputs": [],
   "source": [
    "class_dict = {0:\"background\", 1:\"aeroplane\", 2:\"bicycle\", 3:\"bird\", 4:\"boat\", 5:\"bottle\", 6:\"bus\", 7:\"car\" , 8:\"cat\", 9:\"chair\", 10:\"cow\", 11:\"diningtable\", 12:\"dog\", 13:\"horse\", 14:\"motorbike\", 15:\"person\", 16:\"potted plant\", 17:\"sheep\", 18:\"sofa\", 19:\"train\", 20:\"tv/monitor\"}"
   ]
  },
  {
   "cell_type": "code",
   "execution_count": 12,
   "metadata": {},
   "outputs": [],
   "source": [
    "ds = VOCSegmentation(\"./data\", year=\"2011\", image_set=\"train\", download=False, transform=transform1, target_transform=target_transform)\n",
    "ds_val = VOCSegmentation(\"./data_val\", year=\"2011\", image_set=\"val\", download=False, transform=transform2, target_transform=target_transform)"
   ]
  },
  {
   "cell_type": "code",
   "execution_count": 6,
   "metadata": {},
   "outputs": [],
   "source": [
    "# def batch_mean_and_sd(loader):\n",
    "    \n",
    "#     cnt = 0\n",
    "#     fst_moment = torch.empty(3)\n",
    "#     snd_moment = torch.empty(3)\n",
    "\n",
    "#     for images, _ in loader:\n",
    "#         b, c, h, w = images.shape\n",
    "#         nb_pixels = b * h * w\n",
    "#         sum_ = torch.sum(images, dim=[0, 2, 3])\n",
    "#         sum_of_square = torch.sum(images ** 2,\n",
    "#                                   dim=[0, 2, 3])\n",
    "#         fst_moment = (cnt * fst_moment + sum_) / (\n",
    "#                       cnt + nb_pixels)\n",
    "#         snd_moment = (cnt * snd_moment + sum_of_square) / (\n",
    "#                             cnt + nb_pixels)\n",
    "#         cnt += nb_pixels\n",
    "\n",
    "#     mean, std = fst_moment, torch.sqrt(\n",
    "#       snd_moment - fst_moment ** 2)        \n",
    "#     return mean,std"
   ]
  },
  {
   "cell_type": "code",
   "execution_count": 13,
   "metadata": {},
   "outputs": [
    {
     "data": {
      "text/plain": [
       "torch.Size([3, 256, 256])"
      ]
     },
     "execution_count": 13,
     "metadata": {},
     "output_type": "execute_result"
    }
   ],
   "source": [
    "ds[0][0].shape"
   ]
  },
  {
   "cell_type": "code",
   "execution_count": 14,
   "metadata": {},
   "outputs": [
    {
     "data": {
      "text/plain": [
       "torch.Size([256, 256])"
      ]
     },
     "execution_count": 14,
     "metadata": {},
     "output_type": "execute_result"
    }
   ],
   "source": [
    "ds[0][1].shape"
   ]
  },
  {
   "cell_type": "code",
   "execution_count": 15,
   "metadata": {},
   "outputs": [],
   "source": [
    "fcn_vgg16 = vgg16(weights=VGG16_Weights.IMAGENET1K_V1)\n",
    "\n",
    "def new_forward(self, x: torch.Tensor) -> torch.Tensor:\n",
    "    x = self.features(x)\n",
    "    x = self.classifier(x)\n",
    "    return x\n",
    "\n",
    "bound_method = new_forward.__get__(fcn_vgg16, fcn_vgg16.__class__)\n",
    "setattr(fcn_vgg16, 'forward', bound_method)\n",
    "\n",
    "# fcn_vgg16.features[0] = nn.Conv2d(3, 64, kernel_size=(3, 3), stride=(1, 1), padding=(100, 100))\n",
    "\n",
    "fcn_vgg16.classifier = nn.Sequential(\n",
    "    nn.Conv2d(512, 4096, (1, 1)),\n",
    "    nn.ReLU(inplace=True),\n",
    "    nn.Dropout(p=0.5, inplace=False),\n",
    "    nn.Conv2d(4096, 4096, (1, 1)),\n",
    "    nn.ReLU(inplace=True),\n",
    "    nn.Dropout(p=0.5, inplace=False),\n",
    "    nn.Conv2d(4096, 21, (1, 1)),\n",
    "    nn.Upsample(scale_factor=32, mode='bilinear', align_corners=False)\n",
    "    # nn.ConvTranspose2d(21, 21, (32, 32), stride=32, bias=False)\n",
    ")\n",
    "\n",
    "for name, module in fcn_vgg16.classifier.named_modules():\n",
    "    if name == '6':\n",
    "        module.weight.data.zero_()\n"
   ]
  },
  {
   "cell_type": "code",
   "execution_count": 16,
   "metadata": {},
   "outputs": [],
   "source": [
    "class FCN16_vgg16(nn.Module):\n",
    "    def __init__(self, dropout = 0.5):\n",
    "        super().__init__()\n",
    "        \n",
    "        self.pool1 = nn.Sequential(\n",
    "            nn.Conv2d(3, 64, kernel_size=(3, 3), stride=(1, 1), padding=(1, 1)),\n",
    "            nn.ReLU(inplace=True),\n",
    "            nn.Conv2d(64, 64, kernel_size=(3, 3), stride=(1, 1), padding=(1, 1)),\n",
    "            nn.ReLU(inplace=True),\n",
    "            nn.MaxPool2d(kernel_size=2, stride=2, padding=0, dilation=1, ceil_mode=False),\n",
    "        )\n",
    "        \n",
    "        self.pool2 = nn.Sequential(\n",
    "            nn.Conv2d(64, 128, kernel_size=(3, 3), stride=(1, 1), padding=(1, 1)),\n",
    "            nn.ReLU(inplace=True),\n",
    "            nn.Conv2d(128, 128, kernel_size=(3, 3), stride=(1, 1), padding=(1, 1)),\n",
    "            nn.ReLU(inplace=True),\n",
    "            nn.MaxPool2d(kernel_size=2, stride=2, padding=0, dilation=1, ceil_mode=False)\n",
    "        )\n",
    "        \n",
    "        self.pool3 = nn.Sequential(\n",
    "            nn.Conv2d(128, 256, kernel_size=(3, 3), stride=(1, 1), padding=(1, 1)),\n",
    "            nn.ReLU(inplace=True),\n",
    "            nn.Conv2d(256, 256, kernel_size=(3, 3), stride=(1, 1), padding=(1, 1)),\n",
    "            nn.ReLU(inplace=True),\n",
    "            nn.Conv2d(256, 256, kernel_size=(3, 3), stride=(1, 1), padding=(1, 1)),\n",
    "            nn.ReLU(inplace=True),\n",
    "            nn.MaxPool2d(kernel_size=2, stride=2, padding=0, dilation=1, ceil_mode=False)\n",
    "        )\n",
    "        \n",
    "        self.pool4 = nn.Sequential(\n",
    "            nn.Conv2d(256, 512, kernel_size=(3, 3), stride=(1, 1), padding=(1, 1)),\n",
    "            nn.ReLU(inplace=True),\n",
    "            nn.Conv2d(512, 512, kernel_size=(3, 3), stride=(1, 1), padding=(1, 1)),\n",
    "            nn.ReLU(inplace=True),\n",
    "            nn.Conv2d(512, 512, kernel_size=(3, 3), stride=(1, 1), padding=(1, 1)),\n",
    "            nn.ReLU(inplace=True),\n",
    "            nn.MaxPool2d(kernel_size=2, stride=2, padding=0, dilation=1, ceil_mode=False),\n",
    "        )\n",
    "        \n",
    "        self.pool5 = nn.Sequential(\n",
    "            nn.Conv2d(512, 512, kernel_size=(3, 3), stride=(1, 1), padding=(1, 1)),\n",
    "            nn.ReLU(inplace=True),\n",
    "            nn.Conv2d(512, 512, kernel_size=(3, 3), stride=(1, 1), padding=(1, 1)),\n",
    "            nn.ReLU(inplace=True),\n",
    "            nn.Conv2d(512, 512, kernel_size=(3, 3), stride=(1, 1), padding=(1, 1)),\n",
    "            nn.ReLU(inplace=True),\n",
    "            nn.MaxPool2d(kernel_size=2, stride=2, padding=0, dilation=1, ceil_mode=False)\n",
    "        )\n",
    "        \n",
    "        self.classifier = nn.Sequential(\n",
    "            nn.Conv2d(512, 4096, (1, 1)),\n",
    "            nn.ReLU(inplace=True),\n",
    "            nn.Dropout(p=dropout, inplace=False),\n",
    "            nn.Conv2d(4096, 4096, (1, 1)),\n",
    "            nn.ReLU(inplace=True),\n",
    "            nn.Dropout(p=dropout, inplace=False),\n",
    "            nn.Conv2d(4096, 21, (1, 1)),\n",
    "        )\n",
    "        \n",
    "        self.pool5_upsample = nn.Upsample(scale_factor=2, mode='bilinear', align_corners=False)\n",
    "        self.sum_upsample = nn.Upsample(scale_factor=16, mode='bilinear', align_corners=False)\n",
    "    \n",
    "    def forward(self, x: torch.Tensor) -> torch.Tensor:\n",
    "        x = self.pool1(x)\n",
    "        x = self.pool2(x)\n",
    "        x = self.pool3(x)\n",
    "        x_pool4 = self.pool4(x)\n",
    "        x_pool5 = self.pool5(x_pool4)\n",
    "        \n",
    "        x_pool4 = self.classifier(x_pool4)\n",
    "        x_pool5 = self.classifier(x_pool5)\n",
    "        \n",
    "        x_pool5 = self.pool5_upsample(x_pool5)\n",
    "        \n",
    "        x = x_pool4 + x_pool5\n",
    "        x = self.sum_upsample(x)\n",
    "        \n",
    "        return x"
   ]
  },
  {
   "cell_type": "code",
   "execution_count": 19,
   "metadata": {},
   "outputs": [],
   "source": [
    "fcn16_vgg16 = FCN16_vgg16()\n",
    "\n",
    "modulelist = [module for name, module in fcn16_vgg16.named_modules() if len(name.split('.')) == 2 and name.split('.')[0][:-1] == 'pool']\n",
    "modulelist_tocopy = [module for name, module in fcn_vgg16.named_modules() if len(name.split('.')) == 2 and name.split('.')[0] == 'features']\n",
    "\n",
    "for module, module_tocopy in zip(modulelist, modulelist_tocopy):\n",
    "    if isinstance(module, nn.Conv2d):\n",
    "        module.weight = nn.Parameter(module_tocopy.weight.clone())\n",
    "        module.bias = nn.Parameter(module_tocopy.bias.clone())"
   ]
  },
  {
   "cell_type": "code",
   "execution_count": 22,
   "metadata": {},
   "outputs": [
    {
     "name": "stdout",
     "output_type": "stream",
     "text": [
      "Parameter containing:\n",
      "tensor([[[[-5.5373e-01,  1.4270e-01,  5.2896e-01],\n",
      "          [-5.8312e-01,  3.5655e-01,  7.6566e-01],\n",
      "          [-6.9022e-01, -4.8019e-02,  4.8409e-01]],\n",
      "\n",
      "         [[ 1.7548e-01,  9.8630e-03, -8.1413e-02],\n",
      "          [ 4.4089e-02, -7.0323e-02, -2.6035e-01],\n",
      "          [ 1.3239e-01, -1.7279e-01, -1.3226e-01]],\n",
      "\n",
      "         [[ 3.1303e-01, -1.6591e-01, -4.2752e-01],\n",
      "          [ 4.7519e-01, -8.2677e-02, -4.8700e-01],\n",
      "          [ 6.3203e-01,  1.9308e-02, -2.7753e-01]]],\n",
      "\n",
      "\n",
      "        [[[ 2.3254e-01,  1.2666e-01,  1.8605e-01],\n",
      "          [-4.2805e-01, -2.4349e-01,  2.4628e-01],\n",
      "          [-2.5066e-01,  1.4177e-01, -5.4864e-03]],\n",
      "\n",
      "         [[-1.4076e-01, -2.1903e-01,  1.5041e-01],\n",
      "          [-8.4127e-01, -3.5176e-01,  5.6398e-01],\n",
      "          [-2.4194e-01,  5.1928e-01,  5.3915e-01]],\n",
      "\n",
      "         [[-3.1432e-01, -3.7048e-01, -1.3094e-01],\n",
      "          [-4.7144e-01, -1.5503e-01,  3.4589e-01],\n",
      "          [ 5.4384e-02,  5.8683e-01,  4.9580e-01]]],\n",
      "\n",
      "\n",
      "        [[[ 1.7715e-01,  5.2149e-01,  9.8740e-03],\n",
      "          [-2.7185e-01, -7.1709e-01,  3.1292e-01],\n",
      "          [-7.5753e-02, -2.2079e-01,  3.3455e-01]],\n",
      "\n",
      "         [[ 3.0924e-01,  6.7071e-01,  2.0546e-02],\n",
      "          [-4.6607e-01, -1.0697e+00,  3.3501e-01],\n",
      "          [-8.0284e-02, -3.0522e-01,  5.4460e-01]],\n",
      "\n",
      "         [[ 3.1572e-01,  4.2335e-01, -3.4976e-01],\n",
      "          [ 8.6354e-02, -4.6457e-01,  1.1803e-02],\n",
      "          [ 1.0483e-01, -1.4584e-01, -1.5765e-02]]],\n",
      "\n",
      "\n",
      "        ...,\n",
      "\n",
      "\n",
      "        [[[ 7.7599e-02,  1.2692e-01,  3.2305e-02],\n",
      "          [ 2.2131e-01,  2.4681e-01, -4.6637e-02],\n",
      "          [ 4.6407e-02,  2.8246e-02,  1.7528e-02]],\n",
      "\n",
      "         [[-1.8327e-01, -6.7425e-02, -7.2120e-03],\n",
      "          [-4.8855e-02,  7.0427e-03, -1.2883e-01],\n",
      "          [-6.4601e-02, -6.4566e-02,  4.4235e-02]],\n",
      "\n",
      "         [[-2.2547e-01, -1.1931e-01, -2.3425e-02],\n",
      "          [-9.9171e-02, -1.5143e-02,  9.5385e-04],\n",
      "          [-2.6137e-02,  1.3567e-03,  1.4282e-01]]],\n",
      "\n",
      "\n",
      "        [[[ 1.6520e-02, -3.2225e-02, -3.8450e-03],\n",
      "          [-6.8206e-02, -1.9445e-01, -1.4166e-01],\n",
      "          [-6.9528e-02, -1.8340e-01, -1.7422e-01]],\n",
      "\n",
      "         [[ 4.2781e-02, -6.7529e-02, -7.0309e-03],\n",
      "          [ 1.1765e-02, -1.4958e-01, -1.2361e-01],\n",
      "          [ 1.0205e-02, -1.0393e-01, -1.1742e-01]],\n",
      "\n",
      "         [[ 1.2661e-01,  8.5046e-02,  1.3066e-01],\n",
      "          [ 1.7585e-01,  1.1288e-01,  1.1937e-01],\n",
      "          [ 1.4656e-01,  9.8892e-02,  1.0348e-01]]],\n",
      "\n",
      "\n",
      "        [[[ 3.2176e-02, -1.0766e-01, -2.6388e-01],\n",
      "          [ 2.7957e-01, -3.7416e-02, -2.5471e-01],\n",
      "          [ 3.4872e-01,  3.0041e-02, -5.5898e-02]],\n",
      "\n",
      "         [[ 2.5063e-01,  1.5543e-01, -1.7432e-01],\n",
      "          [ 3.9255e-01,  3.2306e-02, -3.5191e-01],\n",
      "          [ 1.9299e-01, -1.9898e-01, -2.9713e-01]],\n",
      "\n",
      "         [[ 4.6032e-01,  4.3399e-01,  2.8352e-01],\n",
      "          [ 1.6341e-01, -5.8165e-02, -1.9196e-01],\n",
      "          [-1.9521e-01, -4.5630e-01, -4.2732e-01]]]], requires_grad=True)\n"
     ]
    }
   ],
   "source": [
    "for name, param in fcn16_vgg16.named_parameters():\n",
    "    print(param)\n",
    "    break"
   ]
  },
  {
   "cell_type": "code",
   "execution_count": 12,
   "metadata": {},
   "outputs": [
    {
     "name": "stdout",
     "output_type": "stream",
     "text": [
      "----------------------------------------------------------------\n",
      "        Layer (type)               Output Shape         Param #\n",
      "================================================================\n",
      "            Conv2d-1         [-1, 64, 256, 256]           1,792\n",
      "              ReLU-2         [-1, 64, 256, 256]               0\n",
      "            Conv2d-3         [-1, 64, 256, 256]          36,928\n",
      "              ReLU-4         [-1, 64, 256, 256]               0\n",
      "         MaxPool2d-5         [-1, 64, 128, 128]               0\n",
      "            Conv2d-6        [-1, 128, 128, 128]          73,856\n",
      "              ReLU-7        [-1, 128, 128, 128]               0\n",
      "            Conv2d-8        [-1, 128, 128, 128]         147,584\n",
      "              ReLU-9        [-1, 128, 128, 128]               0\n",
      "        MaxPool2d-10          [-1, 128, 64, 64]               0\n",
      "           Conv2d-11          [-1, 256, 64, 64]         295,168\n",
      "             ReLU-12          [-1, 256, 64, 64]               0\n",
      "           Conv2d-13          [-1, 256, 64, 64]         590,080\n",
      "             ReLU-14          [-1, 256, 64, 64]               0\n",
      "           Conv2d-15          [-1, 256, 64, 64]         590,080\n",
      "             ReLU-16          [-1, 256, 64, 64]               0\n",
      "        MaxPool2d-17          [-1, 256, 32, 32]               0\n",
      "           Conv2d-18          [-1, 512, 32, 32]       1,180,160\n",
      "             ReLU-19          [-1, 512, 32, 32]               0\n",
      "           Conv2d-20          [-1, 512, 32, 32]       2,359,808\n",
      "             ReLU-21          [-1, 512, 32, 32]               0\n",
      "           Conv2d-22          [-1, 512, 32, 32]       2,359,808\n",
      "             ReLU-23          [-1, 512, 32, 32]               0\n",
      "        MaxPool2d-24          [-1, 512, 16, 16]               0\n",
      "           Conv2d-25          [-1, 512, 16, 16]       2,359,808\n",
      "             ReLU-26          [-1, 512, 16, 16]               0\n",
      "           Conv2d-27          [-1, 512, 16, 16]       2,359,808\n",
      "             ReLU-28          [-1, 512, 16, 16]               0\n",
      "           Conv2d-29          [-1, 512, 16, 16]       2,359,808\n",
      "             ReLU-30          [-1, 512, 16, 16]               0\n",
      "        MaxPool2d-31            [-1, 512, 8, 8]               0\n",
      "           Conv2d-32           [-1, 4096, 8, 8]       2,101,248\n",
      "             ReLU-33           [-1, 4096, 8, 8]               0\n",
      "          Dropout-34           [-1, 4096, 8, 8]               0\n",
      "           Conv2d-35           [-1, 4096, 8, 8]      16,781,312\n",
      "             ReLU-36           [-1, 4096, 8, 8]               0\n",
      "          Dropout-37           [-1, 4096, 8, 8]               0\n",
      "           Conv2d-38             [-1, 21, 8, 8]          86,037\n",
      "         Upsample-39         [-1, 21, 256, 256]               0\n",
      "================================================================\n",
      "Total params: 33,683,285\n",
      "Trainable params: 33,683,285\n",
      "Non-trainable params: 0\n",
      "----------------------------------------------------------------\n",
      "Input size (MB): 0.75\n",
      "Forward/backward pass size (MB): 307.76\n",
      "Params size (MB): 128.49\n",
      "Estimated Total Size (MB): 437.00\n",
      "----------------------------------------------------------------\n"
     ]
    }
   ],
   "source": [
    "summary(fcn_vgg16, (3, 256, 256), device=\"cpu\")"
   ]
  },
  {
   "cell_type": "code",
   "execution_count": 25,
   "metadata": {},
   "outputs": [],
   "source": [
    "train_dataloader = DataLoader(ds, batch_size=20, shuffle=True, drop_last=True)\n",
    "valid_dataloader = DataLoader(ds_val, batch_size=20, shuffle=True, drop_last=True)"
   ]
  },
  {
   "cell_type": "code",
   "execution_count": 27,
   "metadata": {},
   "outputs": [],
   "source": [
    "device = \"cuda\"\n",
    "model = fcn16_vgg16.to(device)"
   ]
  },
  {
   "cell_type": "code",
   "execution_count": 29,
   "metadata": {},
   "outputs": [
    {
     "name": "stdout",
     "output_type": "stream",
     "text": [
      "-----------------------------\n",
      "epoch 1\n"
     ]
    },
    {
     "name": "stderr",
     "output_type": "stream",
     "text": [
      "100%|██████████| 55/55 [01:08<00:00,  1.25s/it]\n"
     ]
    },
    {
     "name": "stdout",
     "output_type": "stream",
     "text": [
      "total loss : 1.4671430706977844\n"
     ]
    },
    {
     "name": "stderr",
     "output_type": "stream",
     "text": [
      "100%|██████████| 55/55 [00:32<00:00,  1.71it/s]\n"
     ]
    },
    {
     "name": "stdout",
     "output_type": "stream",
     "text": [
      "val loss : 1.0789119254459034\n",
      "validation loss imporved : inf -> 1.0789119254459034\n",
      "\n",
      "-----------------------------\n",
      "epoch 2\n"
     ]
    },
    {
     "name": "stderr",
     "output_type": "stream",
     "text": [
      "100%|██████████| 55/55 [01:27<00:00,  1.60s/it]\n"
     ]
    },
    {
     "name": "stdout",
     "output_type": "stream",
     "text": [
      "total loss : 0.9878287358717485\n"
     ]
    },
    {
     "name": "stderr",
     "output_type": "stream",
     "text": [
      "100%|██████████| 55/55 [00:34<00:00,  1.58it/s]\n"
     ]
    },
    {
     "name": "stdout",
     "output_type": "stream",
     "text": [
      "val loss : 0.9494284879077565\n",
      "validation loss imporved : 1.0789119254459034 -> 0.9494284879077565\n",
      "\n",
      "-----------------------------\n",
      "epoch 3\n"
     ]
    },
    {
     "name": "stderr",
     "output_type": "stream",
     "text": [
      "100%|██████████| 55/55 [01:13<00:00,  1.33s/it]\n"
     ]
    },
    {
     "name": "stdout",
     "output_type": "stream",
     "text": [
      "total loss : 0.8757041562687267\n"
     ]
    },
    {
     "name": "stderr",
     "output_type": "stream",
     "text": [
      "100%|██████████| 55/55 [00:32<00:00,  1.70it/s]\n"
     ]
    },
    {
     "name": "stdout",
     "output_type": "stream",
     "text": [
      "val loss : 0.8372458306225863\n",
      "validation loss imporved : 0.9494284879077565 -> 0.8372458306225863\n",
      "\n",
      "-----------------------------\n",
      "epoch 4\n"
     ]
    },
    {
     "name": "stderr",
     "output_type": "stream",
     "text": [
      "100%|██████████| 55/55 [01:32<00:00,  1.68s/it]\n"
     ]
    },
    {
     "name": "stdout",
     "output_type": "stream",
     "text": [
      "total loss : 0.766588282585144\n"
     ]
    },
    {
     "name": "stderr",
     "output_type": "stream",
     "text": [
      "100%|██████████| 55/55 [00:39<00:00,  1.38it/s]\n"
     ]
    },
    {
     "name": "stdout",
     "output_type": "stream",
     "text": [
      "val loss : 0.7457579742778432\n",
      "validation loss imporved : 0.8372458306225863 -> 0.7457579742778432\n",
      "\n",
      "-----------------------------\n",
      "epoch 5\n"
     ]
    },
    {
     "name": "stderr",
     "output_type": "stream",
     "text": [
      "100%|██████████| 55/55 [01:24<00:00,  1.54s/it]\n"
     ]
    },
    {
     "name": "stdout",
     "output_type": "stream",
     "text": [
      "total loss : 0.6683115747841921\n"
     ]
    },
    {
     "name": "stderr",
     "output_type": "stream",
     "text": [
      "100%|██████████| 55/55 [00:46<00:00,  1.19it/s]\n"
     ]
    },
    {
     "name": "stdout",
     "output_type": "stream",
     "text": [
      "val loss : 0.6737028002738953\n",
      "validation loss imporved : 0.7457579742778432 -> 0.6737028002738953\n",
      "\n",
      "-----------------------------\n",
      "epoch 6\n"
     ]
    },
    {
     "name": "stderr",
     "output_type": "stream",
     "text": [
      "100%|██████████| 55/55 [01:46<00:00,  1.93s/it]\n"
     ]
    },
    {
     "name": "stdout",
     "output_type": "stream",
     "text": [
      "total loss : 0.5782336034558037\n"
     ]
    },
    {
     "name": "stderr",
     "output_type": "stream",
     "text": [
      "100%|██████████| 55/55 [00:42<00:00,  1.28it/s]\n"
     ]
    },
    {
     "name": "stdout",
     "output_type": "stream",
     "text": [
      "val loss : 0.5904953663999384\n",
      "validation loss imporved : 0.6737028002738953 -> 0.5904953663999384\n",
      "\n",
      "-----------------------------\n",
      "epoch 7\n"
     ]
    },
    {
     "name": "stderr",
     "output_type": "stream",
     "text": [
      "100%|██████████| 55/55 [01:50<00:00,  2.01s/it]\n"
     ]
    },
    {
     "name": "stdout",
     "output_type": "stream",
     "text": [
      "total loss : 0.5111847048456019\n"
     ]
    },
    {
     "name": "stderr",
     "output_type": "stream",
     "text": [
      "100%|██████████| 55/55 [00:41<00:00,  1.33it/s]\n"
     ]
    },
    {
     "name": "stdout",
     "output_type": "stream",
     "text": [
      "val loss : 0.5399810487573797\n",
      "validation loss imporved : 0.5904953663999384 -> 0.5399810487573797\n",
      "\n",
      "-----------------------------\n",
      "epoch 8\n"
     ]
    },
    {
     "name": "stderr",
     "output_type": "stream",
     "text": [
      "100%|██████████| 55/55 [01:42<00:00,  1.87s/it]\n"
     ]
    },
    {
     "name": "stdout",
     "output_type": "stream",
     "text": [
      "total loss : 0.4554811412637884\n"
     ]
    },
    {
     "name": "stderr",
     "output_type": "stream",
     "text": [
      "100%|██████████| 55/55 [00:40<00:00,  1.37it/s]\n"
     ]
    },
    {
     "name": "stdout",
     "output_type": "stream",
     "text": [
      "val loss : 0.5130917381156574\n",
      "validation loss imporved : 0.5399810487573797 -> 0.5130917381156574\n",
      "\n",
      "-----------------------------\n",
      "epoch 9\n"
     ]
    },
    {
     "name": "stderr",
     "output_type": "stream",
     "text": [
      "100%|██████████| 55/55 [01:17<00:00,  1.41s/it]\n"
     ]
    },
    {
     "name": "stdout",
     "output_type": "stream",
     "text": [
      "total loss : 0.41879724264144896\n"
     ]
    },
    {
     "name": "stderr",
     "output_type": "stream",
     "text": [
      "100%|██████████| 55/55 [00:32<00:00,  1.70it/s]\n"
     ]
    },
    {
     "name": "stdout",
     "output_type": "stream",
     "text": [
      "val loss : 0.5178640831600536\n",
      "\n",
      "-----------------------------\n",
      "epoch 10\n"
     ]
    },
    {
     "name": "stderr",
     "output_type": "stream",
     "text": [
      "100%|██████████| 55/55 [01:26<00:00,  1.57s/it]\n"
     ]
    },
    {
     "name": "stdout",
     "output_type": "stream",
     "text": [
      "total loss : 0.3852000317790292\n"
     ]
    },
    {
     "name": "stderr",
     "output_type": "stream",
     "text": [
      "100%|██████████| 55/55 [00:37<00:00,  1.48it/s]\n"
     ]
    },
    {
     "name": "stdout",
     "output_type": "stream",
     "text": [
      "val loss : 0.4859779130328785\n",
      "validation loss imporved : 0.5130917381156574 -> 0.4859779130328785\n",
      "\n",
      "-----------------------------\n",
      "epoch 11\n"
     ]
    },
    {
     "name": "stderr",
     "output_type": "stream",
     "text": [
      "100%|██████████| 55/55 [01:52<00:00,  2.05s/it]\n"
     ]
    },
    {
     "name": "stdout",
     "output_type": "stream",
     "text": [
      "total loss : 0.3553873070261695\n"
     ]
    },
    {
     "name": "stderr",
     "output_type": "stream",
     "text": [
      "100%|██████████| 55/55 [01:02<00:00,  1.14s/it]\n"
     ]
    },
    {
     "name": "stdout",
     "output_type": "stream",
     "text": [
      "val loss : 0.47629308917305685\n",
      "validation loss imporved : 0.4859779130328785 -> 0.47629308917305685\n",
      "\n",
      "-----------------------------\n",
      "epoch 12\n"
     ]
    },
    {
     "name": "stderr",
     "output_type": "stream",
     "text": [
      "100%|██████████| 55/55 [02:47<00:00,  3.04s/it]\n"
     ]
    },
    {
     "name": "stdout",
     "output_type": "stream",
     "text": [
      "total loss : 0.3298510727557269\n"
     ]
    },
    {
     "name": "stderr",
     "output_type": "stream",
     "text": [
      "100%|██████████| 55/55 [00:57<00:00,  1.05s/it]\n"
     ]
    },
    {
     "name": "stdout",
     "output_type": "stream",
     "text": [
      "val loss : 0.49171595735983414\n",
      "\n",
      "-----------------------------\n",
      "epoch 13\n"
     ]
    },
    {
     "name": "stderr",
     "output_type": "stream",
     "text": [
      "100%|██████████| 55/55 [02:32<00:00,  2.78s/it]\n"
     ]
    },
    {
     "name": "stdout",
     "output_type": "stream",
     "text": [
      "total loss : 0.3089291878721931\n"
     ]
    },
    {
     "name": "stderr",
     "output_type": "stream",
     "text": [
      "100%|██████████| 55/55 [01:07<00:00,  1.23s/it]\n"
     ]
    },
    {
     "name": "stdout",
     "output_type": "stream",
     "text": [
      "val loss : 0.4756882001053203\n",
      "validation loss imporved : 0.47629308917305685 -> 0.4756882001053203\n",
      "\n",
      "-----------------------------\n",
      "epoch 14\n"
     ]
    },
    {
     "name": "stderr",
     "output_type": "stream",
     "text": [
      "100%|██████████| 55/55 [02:37<00:00,  2.86s/it]\n"
     ]
    },
    {
     "name": "stdout",
     "output_type": "stream",
     "text": [
      "total loss : 0.288223504207351\n"
     ]
    },
    {
     "name": "stderr",
     "output_type": "stream",
     "text": [
      "100%|██████████| 55/55 [00:53<00:00,  1.03it/s]\n"
     ]
    },
    {
     "name": "stdout",
     "output_type": "stream",
     "text": [
      "val loss : 0.474303694746711\n",
      "validation loss imporved : 0.4756882001053203 -> 0.474303694746711\n",
      "\n",
      "-----------------------------\n",
      "epoch 15\n"
     ]
    },
    {
     "name": "stderr",
     "output_type": "stream",
     "text": [
      "100%|██████████| 55/55 [01:51<00:00,  2.02s/it]\n"
     ]
    },
    {
     "name": "stdout",
     "output_type": "stream",
     "text": [
      "total loss : 0.2739409227262844\n"
     ]
    },
    {
     "name": "stderr",
     "output_type": "stream",
     "text": [
      "100%|██████████| 55/55 [00:46<00:00,  1.18it/s]\n"
     ]
    },
    {
     "name": "stdout",
     "output_type": "stream",
     "text": [
      "val loss : 0.4739743243564259\n",
      "validation loss imporved : 0.474303694746711 -> 0.4739743243564259\n",
      "\n",
      "-----------------------------\n",
      "epoch 16\n"
     ]
    },
    {
     "name": "stderr",
     "output_type": "stream",
     "text": [
      "100%|██████████| 55/55 [01:20<00:00,  1.47s/it]\n"
     ]
    },
    {
     "name": "stdout",
     "output_type": "stream",
     "text": [
      "total loss : 0.25786320865154266\n"
     ]
    },
    {
     "name": "stderr",
     "output_type": "stream",
     "text": [
      "100%|██████████| 55/55 [00:23<00:00,  2.31it/s]\n"
     ]
    },
    {
     "name": "stdout",
     "output_type": "stream",
     "text": [
      "val loss : 0.4743467775258151\n",
      "\n",
      "-----------------------------\n",
      "epoch 17\n"
     ]
    },
    {
     "name": "stderr",
     "output_type": "stream",
     "text": [
      "100%|██████████| 55/55 [00:55<00:00,  1.02s/it]\n"
     ]
    },
    {
     "name": "stdout",
     "output_type": "stream",
     "text": [
      "total loss : 0.24416947310621087\n"
     ]
    },
    {
     "name": "stderr",
     "output_type": "stream",
     "text": [
      "100%|██████████| 55/55 [00:23<00:00,  2.31it/s]\n"
     ]
    },
    {
     "name": "stdout",
     "output_type": "stream",
     "text": [
      "val loss : 0.4693040918220173\n",
      "validation loss imporved : 0.4739743243564259 -> 0.4693040918220173\n",
      "\n",
      "-----------------------------\n",
      "epoch 18\n"
     ]
    },
    {
     "name": "stderr",
     "output_type": "stream",
     "text": [
      "100%|██████████| 55/55 [01:18<00:00,  1.43s/it]\n"
     ]
    },
    {
     "name": "stdout",
     "output_type": "stream",
     "text": [
      "total loss : 0.2313774737444791\n"
     ]
    },
    {
     "name": "stderr",
     "output_type": "stream",
     "text": [
      "100%|██████████| 55/55 [00:25<00:00,  2.19it/s]\n"
     ]
    },
    {
     "name": "stdout",
     "output_type": "stream",
     "text": [
      "val loss : 0.4926248203624379\n",
      "\n",
      "-----------------------------\n",
      "epoch 19\n"
     ]
    },
    {
     "name": "stderr",
     "output_type": "stream",
     "text": [
      "100%|██████████| 55/55 [01:19<00:00,  1.45s/it]\n"
     ]
    },
    {
     "name": "stdout",
     "output_type": "stream",
     "text": [
      "total loss : 0.22067561854015696\n"
     ]
    },
    {
     "name": "stderr",
     "output_type": "stream",
     "text": [
      "100%|██████████| 55/55 [00:41<00:00,  1.34it/s]\n"
     ]
    },
    {
     "name": "stdout",
     "output_type": "stream",
     "text": [
      "val loss : 0.4755637827244672\n",
      "\n",
      "-----------------------------\n",
      "epoch 20\n"
     ]
    },
    {
     "name": "stderr",
     "output_type": "stream",
     "text": [
      "100%|██████████| 55/55 [01:14<00:00,  1.35s/it]\n"
     ]
    },
    {
     "name": "stdout",
     "output_type": "stream",
     "text": [
      "total loss : 0.21257924816825174\n"
     ]
    },
    {
     "name": "stderr",
     "output_type": "stream",
     "text": [
      "100%|██████████| 55/55 [00:35<00:00,  1.54it/s]\n"
     ]
    },
    {
     "name": "stdout",
     "output_type": "stream",
     "text": [
      "val loss : 0.4715064379301938\n",
      "\n",
      "-----------------------------\n",
      "epoch 21\n"
     ]
    },
    {
     "name": "stderr",
     "output_type": "stream",
     "text": [
      "100%|██████████| 55/55 [01:10<00:00,  1.28s/it]\n"
     ]
    },
    {
     "name": "stdout",
     "output_type": "stream",
     "text": [
      "total loss : 0.2034861591729251\n"
     ]
    },
    {
     "name": "stderr",
     "output_type": "stream",
     "text": [
      "100%|██████████| 55/55 [00:23<00:00,  2.32it/s]\n"
     ]
    },
    {
     "name": "stdout",
     "output_type": "stream",
     "text": [
      "val loss : 0.4769870966672897\n",
      "\n",
      "-----------------------------\n",
      "epoch 22\n"
     ]
    },
    {
     "name": "stderr",
     "output_type": "stream",
     "text": [
      "100%|██████████| 55/55 [01:38<00:00,  1.80s/it]\n"
     ]
    },
    {
     "name": "stdout",
     "output_type": "stream",
     "text": [
      "total loss : 0.1943056721578945\n"
     ]
    },
    {
     "name": "stderr",
     "output_type": "stream",
     "text": [
      "100%|██████████| 55/55 [00:50<00:00,  1.09it/s]\n"
     ]
    },
    {
     "name": "stdout",
     "output_type": "stream",
     "text": [
      "val loss : 0.48322191400961445\n",
      "\n",
      "-----------------------------\n",
      "epoch 23\n"
     ]
    },
    {
     "name": "stderr",
     "output_type": "stream",
     "text": [
      "100%|██████████| 55/55 [01:43<00:00,  1.88s/it]\n"
     ]
    },
    {
     "name": "stdout",
     "output_type": "stream",
     "text": [
      "total loss : 0.1859806869517673\n"
     ]
    },
    {
     "name": "stderr",
     "output_type": "stream",
     "text": [
      "100%|██████████| 55/55 [01:10<00:00,  1.27s/it]\n"
     ]
    },
    {
     "name": "stdout",
     "output_type": "stream",
     "text": [
      "val loss : 0.4888436127792705\n",
      "\n",
      "-----------------------------\n",
      "epoch 24\n"
     ]
    },
    {
     "name": "stderr",
     "output_type": "stream",
     "text": [
      "100%|██████████| 55/55 [01:17<00:00,  1.40s/it]\n"
     ]
    },
    {
     "name": "stdout",
     "output_type": "stream",
     "text": [
      "total loss : 0.18022165298461915\n"
     ]
    },
    {
     "name": "stderr",
     "output_type": "stream",
     "text": [
      "100%|██████████| 55/55 [00:34<00:00,  1.59it/s]\n"
     ]
    },
    {
     "name": "stdout",
     "output_type": "stream",
     "text": [
      "val loss : 0.4902465771545063\n",
      "\n",
      "-----------------------------\n",
      "epoch 25\n"
     ]
    },
    {
     "name": "stderr",
     "output_type": "stream",
     "text": [
      "100%|██████████| 55/55 [01:55<00:00,  2.10s/it]\n"
     ]
    },
    {
     "name": "stdout",
     "output_type": "stream",
     "text": [
      "total loss : 0.17404232201251116\n"
     ]
    },
    {
     "name": "stderr",
     "output_type": "stream",
     "text": [
      "100%|██████████| 55/55 [01:02<00:00,  1.13s/it]\n"
     ]
    },
    {
     "name": "stdout",
     "output_type": "stream",
     "text": [
      "val loss : 0.4940821132876656\n",
      "\n",
      "-----------------------------\n",
      "epoch 26\n"
     ]
    },
    {
     "name": "stderr",
     "output_type": "stream",
     "text": [
      "100%|██████████| 55/55 [01:27<00:00,  1.58s/it]\n"
     ]
    },
    {
     "name": "stdout",
     "output_type": "stream",
     "text": [
      "total loss : 0.16812735023823652\n"
     ]
    },
    {
     "name": "stderr",
     "output_type": "stream",
     "text": [
      "100%|██████████| 55/55 [00:41<00:00,  1.34it/s]\n"
     ]
    },
    {
     "name": "stdout",
     "output_type": "stream",
     "text": [
      "val loss : 0.489797845211896\n",
      "\n",
      "-----------------------------\n",
      "epoch 27\n"
     ]
    },
    {
     "name": "stderr",
     "output_type": "stream",
     "text": [
      "100%|██████████| 55/55 [01:44<00:00,  1.91s/it]\n"
     ]
    },
    {
     "name": "stdout",
     "output_type": "stream",
     "text": [
      "total loss : 0.16480441797863354\n"
     ]
    },
    {
     "name": "stderr",
     "output_type": "stream",
     "text": [
      "100%|██████████| 55/55 [00:38<00:00,  1.44it/s]"
     ]
    },
    {
     "name": "stdout",
     "output_type": "stream",
     "text": [
      "val loss : 0.49363876472819934\n",
      "No validation improvement until 10 epoch. Terminating training loop.\n"
     ]
    },
    {
     "name": "stderr",
     "output_type": "stream",
     "text": [
      "\n"
     ]
    }
   ],
   "source": [
    "train_losslist = []\n",
    "val_losslist = []\n",
    "# optimizer = SGD(fcn_vgg16.parameters(), 1e-4, momentum=0.9, weight_decay=5**-4)\n",
    "optimizer = Adam(model.parameters(), lr=1e-5)\n",
    "epochs = 200\n",
    "loss = nn.CrossEntropyLoss()\n",
    "\n",
    "patience = 10\n",
    "earlystop_counter = 0\n",
    "best_loss = np.inf\n",
    "\n",
    "epoch_start = 1\n",
    "\n",
    "# checkpoint = torch.load('saved/checkpoint_model_14.pt')\n",
    "# epoch_start = checkpoint['epoch']\n",
    "# model.load_state_dict(checkpoint['model_state_dict'])\n",
    "# optimizer.load_state_dict(checkpoint['optimizer_state_dict'])\n",
    "# train_losslist = checkpoint['train_loss']\n",
    "# val_losslist = checkpoint['val_loss']\n",
    "# best_loss = checkpoint['earlystop']['bestloss']\n",
    "\n",
    "for i in range(epoch_start, epochs+1):\n",
    "    print(\"-----------------------------\")\n",
    "    print(f\"epoch {i}\")\n",
    "    model.train()\n",
    "    loss_sum = 0\n",
    "    for batch, (X, y) in enumerate(tqdm(train_dataloader)):\n",
    "        X = X.to(device)\n",
    "        y = y.to(device).long()\n",
    "        pred = model(X)\n",
    "        loss_out = loss(pred, y)\n",
    "        \n",
    "        optimizer.zero_grad()\n",
    "        loss_out.backward()\n",
    "        optimizer.step()\n",
    "        loss_sum += loss_out.item()\n",
    "    train_losslist.append(loss_sum/len(train_dataloader))\n",
    "    print(f\"total loss : {loss_sum/len(train_dataloader)}\")\n",
    "    \n",
    "    model.eval()\n",
    "    loss_sum = 0\n",
    "    with torch.no_grad():\n",
    "        for batch, (X, y) in enumerate(tqdm(valid_dataloader)):\n",
    "            X = X.to(device)\n",
    "            y = y.to(device).long()\n",
    "            pred = model(X)\n",
    "            loss_sum += loss(pred, y).item()\n",
    "        val_loss = loss_sum/len(valid_dataloader)\n",
    "        val_losslist.append(val_loss)\n",
    "        print(f\"val loss : {val_loss}\")\n",
    "        \n",
    "        if best_loss > val_loss:\n",
    "            print(f\"validation loss imporved : {best_loss} -> {val_loss}\")\n",
    "            best_loss = val_loss\n",
    "            earlystop_counter = 0\n",
    "            torch.save(model.state_dict(), \"best.pt\")\n",
    "        else:\n",
    "            earlystop_counter+=1\n",
    "        \n",
    "        if earlystop_counter == patience:\n",
    "            print(f\"No validation improvement until {earlystop_counter} epoch. Terminating training loop.\")\n",
    "            best = torch.load(\"best.pt\")\n",
    "            model.load_state_dict(best)\n",
    "            break\n",
    "        \n",
    "    torch.save({\n",
    "        'epoch': i,\n",
    "        'model_state_dict': model.state_dict(),\n",
    "        'optimizer_state_dict': optimizer.state_dict(),\n",
    "        'train_loss': train_losslist,\n",
    "        'val_loss': val_losslist,\n",
    "        'earlystop': {'patience': patience, 'counter': earlystop_counter, 'bestloss': best_loss}\n",
    "    }, os.path.normpath(f\"saved/checkpoint_model_{i}.pt\"))\n",
    "    \n",
    "    try:\n",
    "        os.remove(os.path.normpath(f\"saved/checkpoint_model_{i-1}.pt\"))\n",
    "    except OSError:\n",
    "        pass\n",
    "\n",
    "    print(\"\")\n",
    "            \n",
    "            \n",
    "        "
   ]
  },
  {
   "cell_type": "code",
   "execution_count": 16,
   "metadata": {},
   "outputs": [
    {
     "data": {
      "text/plain": [
       "[<matplotlib.lines.Line2D at 0x2041e2cc610>]"
      ]
     },
     "execution_count": 16,
     "metadata": {},
     "output_type": "execute_result"
    },
    {
     "data": {
      "image/png": "[encoded data removed]",
      "text/plain": [
       "<Figure size 640x480 with 1 Axes>"
      ]
     },
     "metadata": {},
     "output_type": "display_data"
    }
   ],
   "source": [
    "plt.plot(train_losslist)\n",
    "plt.plot(val_losslist)"
   ]
  },
  {
   "cell_type": "code",
   "execution_count": 23,
   "metadata": {},
   "outputs": [],
   "source": [
    "# checkpoint = torch.load(\"best.pt\")\n",
    "# fcn16_vgg16.load_state_dict(checkpoint)"
   ]
  },
  {
   "cell_type": "code",
   "execution_count": 27,
   "metadata": {},
   "outputs": [],
   "source": [
    "# fcn_vgg16.load_state_dict(checkpoint)"
   ]
  },
  {
   "cell_type": "code",
   "execution_count": 17,
   "metadata": {},
   "outputs": [],
   "source": [
    "mask_cmap = [\n",
    "\"#800080\",\n",
    "\"#0F0F0F\",\n",
    "\"#FF0000\",\n",
    "\"#00FF00\",\n",
    "\"#0000FF\",\n",
    "\"#FFFF00\",\n",
    "\"#00FFFF\",\n",
    "\"#FF00FF\",\n",
    "\"#FFA500\",\n",
    "\"#A52A2A\",\n",
    "\"#00FF7F\",\n",
    "\"#FFC0CB\",\n",
    "\"#008080\",\n",
    "\"#E6E6FA\",\n",
    "\"#800000\",\n",
    "\"#808000\",\n",
    "\"#FF7F50\",\n",
    "\"#000080\",\n",
    "\"#808080\",\n",
    "\"#87CEEB\",\n",
    "\"#F5F5DC\"]"
   ]
  },
  {
   "cell_type": "code",
   "execution_count": 18,
   "metadata": {},
   "outputs": [],
   "source": [
    "from matplotlib.colors import ListedColormap"
   ]
  },
  {
   "cell_type": "code",
   "execution_count": 19,
   "metadata": {},
   "outputs": [],
   "source": [
    "cm = ListedColormap(mask_cmap)"
   ]
  },
  {
   "cell_type": "code",
   "execution_count": 29,
   "metadata": {},
   "outputs": [
    {
     "name": "stderr",
     "output_type": "stream",
     "text": [
      "Clipping input data to the valid range for imshow with RGB data ([0..1] for floats or [0..255] for integers).\n"
     ]
    },
    {
     "data": {
      "image/png": "[encoded data removed]",
      "text/plain": [
       "<Figure size 800x400 with 3 Axes>"
      ]
     },
     "metadata": {},
     "output_type": "display_data"
    }
   ],
   "source": [
    "image_idx = 20\n",
    "fig, axes = plt.subplots(1, 3, figsize=(8, 4))\n",
    "axes = axes.flatten()\n",
    "\n",
    "output = model(ds_val[image_idx][0].unsqueeze(dim=0).to(device))\n",
    "\n",
    "ax1 = axes[0].imshow(output[0].argmax(axis=0).cpu(), cmap=cm)\n",
    "ax2 = axes[1].imshow(ds_val[image_idx][1], cmap=cm)\n",
    "ax3 = axes[2].imshow(ds_val[image_idx][0].permute(1, 2, 0))\n",
    "\n",
    "plt.show()"
   ]
  }
 ],
 "metadata": {
  "kernelspec": {
   "display_name": "torch-light",
   "language": "python",
   "name": "python3"
  },
  "language_info": {
   "codemirror_mode": {
    "name": "ipython",
    "version": 3
   },
   "file_extension": ".py",
   "mimetype": "text/x-python",
   "name": "python",
   "nbconvert_exporter": "python",
   "pygments_lexer": "ipython3",
   "version": "3.8.13"
  },
  "orig_nbformat": 4
 },
 "nbformat": 4,
 "nbformat_minor": 2
}
